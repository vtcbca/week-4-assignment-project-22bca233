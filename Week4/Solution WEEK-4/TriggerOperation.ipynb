{
 "cells": [
  {
   "cell_type": "code",
   "execution_count": 1,
   "id": "ba757fda",
   "metadata": {},
   "outputs": [],
   "source": [
    "import sqlite3 as sq\n",
    "import datetime"
   ]
  },
  {
   "cell_type": "code",
   "execution_count": 2,
   "id": "c13aa47d",
   "metadata": {},
   "outputs": [],
   "source": [
    "con = sq.connect(\"contactmanagementsystem.db\")"
   ]
  },
  {
   "cell_type": "code",
   "execution_count": 3,
   "id": "516af448",
   "metadata": {},
   "outputs": [],
   "source": [
    "cur = con.cursor()"
   ]
  },
  {
   "cell_type": "markdown",
   "id": "cdfa71e7",
   "metadata": {},
   "source": [
    "->create a contact table "
   ]
  },
  {
   "cell_type": "code",
   "execution_count": 41,
   "id": "4e39d8c1",
   "metadata": {},
   "outputs": [
    {
     "data": {
      "text/plain": [
       "<sqlite3.Cursor at 0x23e771b3540>"
      ]
     },
     "execution_count": 41,
     "metadata": {},
     "output_type": "execute_result"
    }
   ],
   "source": [
    "cur.execute(\"\"\"create table if not exists contact\n",
    "               ( cid int primary key,\n",
    "                 fname text,\n",
    "                 lname text,\n",
    "                 contact number,\n",
    "                 email text,\n",
    "                 city text\n",
    "                 check ( email like '%_@_%._%')\n",
    "                );\"\"\")"
   ]
  },
  {
   "cell_type": "markdown",
   "id": "43dd8978",
   "metadata": {},
   "source": [
    "->table for insert,update, delete log"
   ]
  },
  {
   "cell_type": "code",
   "execution_count": 42,
   "id": "659e8007",
   "metadata": {},
   "outputs": [
    {
     "data": {
      "text/plain": [
       "<sqlite3.Cursor at 0x23e771b3540>"
      ]
     },
     "execution_count": 42,
     "metadata": {},
     "output_type": "execute_result"
    }
   ],
   "source": [
    "cur.execute(\"\"\"create table if not exists details_log\n",
    "                (\n",
    "                    \n",
    "                    fname text,\n",
    "                    lname text,\n",
    "                    newcontact number,\n",
    "                    oldcontact number,\n",
    "                    datetime text,\n",
    "                    operation text\n",
    "                    \n",
    "                )\"\"\")"
   ]
  },
  {
   "cell_type": "code",
   "execution_count": 40,
   "id": "94a996ec",
   "metadata": {},
   "outputs": [
    {
     "data": {
      "text/plain": [
       "<sqlite3.Cursor at 0x23e771b3540>"
      ]
     },
     "execution_count": 40,
     "metadata": {},
     "output_type": "execute_result"
    }
   ],
   "source": []
  },
  {
   "cell_type": "markdown",
   "id": "f58fb366",
   "metadata": {},
   "source": [
    "->trigger for insert log"
   ]
  },
  {
   "cell_type": "code",
   "execution_count": 43,
   "id": "d0b4f402",
   "metadata": {},
   "outputs": [
    {
     "data": {
      "text/plain": [
       "<sqlite3.Cursor at 0x23e771b3540>"
      ]
     },
     "execution_count": 43,
     "metadata": {},
     "output_type": "execute_result"
    }
   ],
   "source": [
    "cur.execute(\"\"\"create trigger if not exists insertdata\n",
    "               after insert on contact\n",
    "               begin\n",
    "                   insert into details_log\n",
    "                   values(new.fname,new.lname,new.contact,'NULL',datetime('now'),'insert');\n",
    "               end;\n",
    "                   \"\"\")"
   ]
  },
  {
   "cell_type": "markdown",
   "id": "6046f739",
   "metadata": {},
   "source": [
    "->trigger for delete log"
   ]
  },
  {
   "cell_type": "code",
   "execution_count": 44,
   "id": "51c35268",
   "metadata": {},
   "outputs": [
    {
     "data": {
      "text/plain": [
       "<sqlite3.Cursor at 0x23e771b3540>"
      ]
     },
     "execution_count": 44,
     "metadata": {},
     "output_type": "execute_result"
    }
   ],
   "source": [
    "cur.execute(\"\"\"create trigger if not exists deletedata\n",
    "               after delete on contact\n",
    "               begin\n",
    "                   insert into details_log\n",
    "                   values(old.fname,old.lname,'NULL',old.contact,datetime('now'),'delete');\n",
    "               end;\n",
    "                   \"\"\")"
   ]
  },
  {
   "cell_type": "markdown",
   "id": "3a884880",
   "metadata": {},
   "source": [
    "->trigger for delete log"
   ]
  },
  {
   "cell_type": "code",
   "execution_count": 45,
   "id": "84c9c663",
   "metadata": {},
   "outputs": [
    {
     "data": {
      "text/plain": [
       "<sqlite3.Cursor at 0x23e771b3540>"
      ]
     },
     "execution_count": 45,
     "metadata": {},
     "output_type": "execute_result"
    }
   ],
   "source": [
    "cur.execute(\"\"\"create trigger if not exists updatedata\n",
    "               after update on contact\n",
    "               begin\n",
    "                   insert into details_log\n",
    "                   values(new.fname,new.lname,new.contact,old.contact,datetime('now'),'update');\n",
    "               end;\n",
    "                   \"\"\")"
   ]
  },
  {
   "cell_type": "code",
   "execution_count": 9,
   "id": "8f15e510",
   "metadata": {},
   "outputs": [],
   "source": [
    "# def insertdata(n):\n",
    "#     data=[]\n",
    "#     for i in range(n):\n",
    "#         cid=int(input(\"Enter Contact ID:\"))\n",
    "#         fname=input(\"Enter Contact First Name:\")\n",
    "#         lname=input(\"Enter Contact Last Name:\")\n",
    "#         contact=int(input(\"Enter Contact Number:\"))\n",
    "#         email=input(\"Enter Contact Email:\")\n",
    "#         city=input(\"Enter Contact City:\")\n",
    "#         record=(cid,fname,lname,contact,email,city)\n",
    "#         data.append(record)\n",
    "#     cur.executemany(\"insert into contact values(?,?,?,?,?,?)\",data)"
   ]
  },
  {
   "cell_type": "code",
   "execution_count": 46,
   "id": "23fead7a",
   "metadata": {},
   "outputs": [],
   "source": [
    "def updaterecord(cd):\n",
    "    newcon=int(input(\"Enter new Contact Number:\"))\n",
    "    cur.execute(f\"Update contact set contact={newcon} where cid={cd};\")"
   ]
  },
  {
   "cell_type": "code",
   "execution_count": 47,
   "id": "9919d151",
   "metadata": {},
   "outputs": [],
   "source": [
    "def deleterecord(cd):\n",
    "    cur.execute(f\"delete from contact where cid={cd}\")"
   ]
  },
  {
   "cell_type": "code",
   "execution_count": 48,
   "id": "b091c03a",
   "metadata": {},
   "outputs": [],
   "source": [
    "def searchrecord(cd):\n",
    "    cur.execute(f\"select * from contact where cid={cd}\")\n",
    "    row=cur.fetchall()\n",
    "    print(row)"
   ]
  },
  {
   "cell_type": "code",
   "execution_count": 49,
   "id": "1aca6dde",
   "metadata": {},
   "outputs": [
    {
     "data": {
      "text/plain": [
       "<sqlite3.Cursor at 0x23e771b3540>"
      ]
     },
     "execution_count": 49,
     "metadata": {},
     "output_type": "execute_result"
    }
   ],
   "source": [
    "cur.execute(\"\"\"insert into contact values\n",
    "                (1,'om','patel',9874521020,'om@gmail.com','bardoli'),\n",
    "                (2,'raj','shah',7489656622,'raj@gmail.com','surat'),\n",
    "                (3,'sai','rajput',8596302023,'sai@gmail.com','mandvi'),\n",
    "                (4,'prem','patil',7489620101,'prem@gmail.com','vyara'),\n",
    "                (5,'henil','rabari',7485120302,'henil@gmail.com','madhi');\"\"\")"
   ]
  },
  {
   "cell_type": "code",
   "execution_count": 50,
   "id": "d1f5efab",
   "metadata": {},
   "outputs": [
    {
     "name": "stdout",
     "output_type": "stream",
     "text": [
      "Enter new Contact Number:8585748510\n"
     ]
    }
   ],
   "source": [
    "updaterecord(2)"
   ]
  },
  {
   "cell_type": "code",
   "execution_count": 51,
   "id": "7335c71b",
   "metadata": {},
   "outputs": [],
   "source": [
    "deleterecord(3)"
   ]
  },
  {
   "cell_type": "code",
   "execution_count": 52,
   "id": "bb3b08a0",
   "metadata": {},
   "outputs": [
    {
     "name": "stdout",
     "output_type": "stream",
     "text": [
      "\n",
      "ID:1\n",
      "Fname:om\n",
      "Lname:patel\n",
      "Contact:9874521020\n",
      "Email:om@gmail.com\n",
      "city:bardoli\n",
      "\n",
      "ID:2\n",
      "Fname:raj\n",
      "Lname:shah\n",
      "Contact:8585748510\n",
      "Email:raj@gmail.com\n",
      "city:surat\n",
      "\n",
      "ID:4\n",
      "Fname:prem\n",
      "Lname:patil\n",
      "Contact:7489620101\n",
      "Email:prem@gmail.com\n",
      "city:vyara\n",
      "\n",
      "ID:5\n",
      "Fname:henil\n",
      "Lname:rabari\n",
      "Contact:7485120302\n",
      "Email:henil@gmail.com\n",
      "city:madhi\n"
     ]
    }
   ],
   "source": [
    "cur.execute(\"select * from contact\")\n",
    "row=cur.fetchall()\n",
    "for i in row:\n",
    "    print(f\"\\nID:{i[0]}\\nFname:{i[1]}\\nLname:{i[2]}\\nContact:{i[3]}\\nEmail:{i[4]}\\ncity:{i[5]}\")"
   ]
  },
  {
   "cell_type": "code",
   "execution_count": 53,
   "id": "6917d439",
   "metadata": {},
   "outputs": [
    {
     "name": "stdout",
     "output_type": "stream",
     "text": [
      "[('om', 'patel', 9874521020, 'NULL', '2023-08-08 16:08:52', 'insert'), ('raj', 'shah', 7489656622, 'NULL', '2023-08-08 16:08:52', 'insert'), ('sai', 'rajput', 8596302023, 'NULL', '2023-08-08 16:08:52', 'insert'), ('prem', 'patil', 7489620101, 'NULL', '2023-08-08 16:08:52', 'insert'), ('henil', 'rabari', 7485120302, 'NULL', '2023-08-08 16:08:52', 'insert'), ('raj', 'shah', 8585748510, 7489656622, '2023-08-08 16:09:00', 'update'), ('sai', 'rajput', 'NULL', 8596302023, '2023-08-08 16:09:02', 'delete')]\n",
      "\n",
      "Fname:om\n",
      "Lname:patel\n",
      "New-contact:9874521020\n",
      "Old-Contact:NULL\n",
      "Datetime:2023-08-08 16:08:52\n",
      "Operation:insert\n",
      "\n",
      "Fname:raj\n",
      "Lname:shah\n",
      "New-contact:7489656622\n",
      "Old-Contact:NULL\n",
      "Datetime:2023-08-08 16:08:52\n",
      "Operation:insert\n",
      "\n",
      "Fname:sai\n",
      "Lname:rajput\n",
      "New-contact:8596302023\n",
      "Old-Contact:NULL\n",
      "Datetime:2023-08-08 16:08:52\n",
      "Operation:insert\n",
      "\n",
      "Fname:prem\n",
      "Lname:patil\n",
      "New-contact:7489620101\n",
      "Old-Contact:NULL\n",
      "Datetime:2023-08-08 16:08:52\n",
      "Operation:insert\n",
      "\n",
      "Fname:henil\n",
      "Lname:rabari\n",
      "New-contact:7485120302\n",
      "Old-Contact:NULL\n",
      "Datetime:2023-08-08 16:08:52\n",
      "Operation:insert\n",
      "\n",
      "Fname:raj\n",
      "Lname:shah\n",
      "New-contact:8585748510\n",
      "Old-Contact:7489656622\n",
      "Datetime:2023-08-08 16:09:00\n",
      "Operation:update\n",
      "\n",
      "Fname:sai\n",
      "Lname:rajput\n",
      "New-contact:NULL\n",
      "Old-Contact:8596302023\n",
      "Datetime:2023-08-08 16:09:02\n",
      "Operation:delete\n"
     ]
    }
   ],
   "source": [
    "cur.execute(\"select * from details_log\")\n",
    "row1=cur.fetchall()\n",
    "print(row1)\n",
    "for i in row1:\n",
    "    print(f\"\\nFname:{i[0]}\\nLname:{i[1]}\\nNew-contact:{i[2]}\\nOld-Contact:{i[3]}\\nDatetime:{i[4]}\\nOperation:{i[5]}\")"
   ]
  }
 ],
 "metadata": {
  "kernelspec": {
   "display_name": "Python 3 (ipykernel)",
   "language": "python",
   "name": "python3"
  },
  "language_info": {
   "codemirror_mode": {
    "name": "ipython",
    "version": 3
   },
   "file_extension": ".py",
   "mimetype": "text/x-python",
   "name": "python",
   "nbconvert_exporter": "python",
   "pygments_lexer": "ipython3",
   "version": "3.11.1"
  }
 },
 "nbformat": 4,
 "nbformat_minor": 5
}
